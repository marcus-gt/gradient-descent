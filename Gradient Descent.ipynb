{
 "cells": [
  {
   "cell_type": "code",
   "execution_count": 1,
   "metadata": {},
   "outputs": [],
   "source": [
    "# Imports\n",
    "import numpy as np\n",
    "import matplotlib.pyplot as plt"
   ]
  },
  {
   "cell_type": "markdown",
   "metadata": {},
   "source": [
    "### OUTLINE / INTRODUCTION"
   ]
  },
  {
   "cell_type": "markdown",
   "metadata": {},
   "source": [
    "I denne notebooken gir jeg svar på oppgavene. Unntaket er den første oppgaven (Task 0), som ligger i en separat PDF. Oppgavene besvares i all hovedsak under oversriften \"Mini-batch (Stochastic) Gradient Descent\", så hopp gjerne rett til den. Grunnen til at jeg har med to løsninger er at jeg først løste oppgaven ved hjelp av \"vanlig\" Stochstic Gradient Descent – der man kun velger én av observasjonene. Dette har jeg bedre kjennskap til fra før, så jeg startet her – deretter utvidet jeg til en mini-batch løsning slik det etterspørres i oppgaven. \n",
    "\n",
    "Notebooken er strukturert som følger:\n",
    "1. I Del 1 en gir jeg et raskt overblikk over den generelle algoritmen for Gradient Descent som jeg har fulgt i løsningen\n",
    "2. I Del 2 genereres det dummy-data som kan brukes til å vurdere/evaluere modellen(e)\n",
    "3. I Del 3 bygges et program som løser oppgaven ved hjelp av \"vanlig\" Stochastic gradient descent\n",
    "4. I Del 4 bygges et program som løser oppggaven ved hjelp av mini-batch stochastic gradient descent. Denne gir svar på Task 3, 5 og 6.\n",
    "5. Del 5 gir en funksjon som produserer jacobian, slik det etterspørres i Task 4."
   ]
  },
  {
   "cell_type": "markdown",
   "metadata": {},
   "source": [
    "## 1) Genral approach/algorithm that I've followed in the solution\n",
    "1. Take the gradient of the loss-function \n",
    "2. Pick random starting values for the parameters that are to be estimated\n",
    "3. Caculate the gradient with the current values\n",
    "4. Calculate the value for the next step: old_value - learning_rate*gradient(current_values)\n",
    "5. Back to step 3."
   ]
  },
  {
   "cell_type": "markdown",
   "metadata": {},
   "source": [
    "## 2) Generating some dummy-data\n",
    "For testing/verifying"
   ]
  },
  {
   "cell_type": "code",
   "execution_count": 2,
   "metadata": {},
   "outputs": [
    {
     "data": {
      "text/plain": [
       "[<matplotlib.lines.Line2D at 0x11d98afd0>]"
      ]
     },
     "execution_count": 2,
     "metadata": {},
     "output_type": "execute_result"
    },
    {
     "data": {
      "image/png": "[encoded data removed]",
      "text/plain": [
       "<Figure size 432x288 with 1 Axes>"
      ]
     },
     "metadata": {
      "needs_background": "light"
     },
     "output_type": "display_data"
    }
   ],
   "source": [
    "# True values of the parameters - what I'm trying to estimate later\n",
    "c_true = 1.5\n",
    "mu_true = 0.5\n",
    "\n",
    "# Genrating some input and outout data, last term adds \n",
    "X = np.random.rand(100,1)\n",
    "y = c_true*(np.exp(-((X-mu_true)**2)/2)) + np.random.rand(100,1)/10\n",
    "plt.plot(X, y, 'o')"
   ]
  },
  {
   "cell_type": "markdown",
   "metadata": {},
   "source": [
    "## 3) Stochastic Gradient Descent\n",
    "Picking a single value from the data for each step in the algorithm "
   ]
  },
  {
   "cell_type": "code",
   "execution_count": 3,
   "metadata": {},
   "outputs": [],
   "source": [
    "###############################################################################################\n",
    "### 1) HELPER FUNCTIONS\n",
    "###############################################################################################\n",
    "\n",
    "# 1.1) Function giving av value/vektor of the estimated y's given the current parameters SECTION 3 IN THE TEST\n",
    "def f(c,mu,x_vector):\n",
    "    return c*(np.exp(-((x_vector-mu)**2)/2))\n",
    "\n",
    "\n",
    "# 1.2 Gradient functions (SECTION 5 IN THE TEST)\n",
    "# 1.2.1) Function returning the gradient of the loss-function with respect to the parameter mu\n",
    "def gradient_mu(c,mu,x_vector,y_vector):\n",
    "    N = len(x_vector)\n",
    "    return 2*(f(c,mu,x_vector) - y_vector) * c *(np.exp(-((x_vector-mu)**2)/2))*(x_vector-mu)/2\n",
    "\n",
    "# 1.2.2) Function returning the gradient of the loss-function with respect to the parameter c\n",
    "def gradient_c(c,mu,x_vector,y_vector):\n",
    "    N = len(x_vector)\n",
    "    return 2*(f(c,mu,x_vector) - y_vector) * np.exp(-((x_vector-mu)**2)/2) #/ N\n",
    "\n",
    "###############################################################################################\n",
    "### 2) STOCHASTIUC GRADIENT DESCENT FUNCTIION\n",
    "###############################################################################################\n",
    "\n",
    "def stochastic_gradient_descent(x_vector, y_vector, learning_rate = 0.01, max_num_steps = 1000):    \n",
    "    # Pick random starting values for the parameters c and mu\n",
    "    c = np.random.uniform(0,1,1)\n",
    "    mu = np.random.uniform(0,1,1)\n",
    "    \n",
    "    steps = 0\n",
    "    while steps < max_num_steps:\n",
    "        \n",
    "        # Stochastic element - picking single values for x,y for stochastic gradient descent\n",
    "        permutation = np.random.permutation(len(x_vector))\n",
    "        x = x_vector[permutation][0]\n",
    "        y = y_vector[permutation][0]\n",
    "        \n",
    "        # Calculating new parameters for next step\n",
    "        c = c - learning_rate*gradient_c(c,mu,x,y)\n",
    "        mu = mu - learning_rate*gradient_mu(c,mu,x,y)\n",
    "        \n",
    "        # Updating steps (adding 1)\n",
    "        steps += 1\n",
    "    \n",
    "    return (c,mu)"
   ]
  },
  {
   "cell_type": "markdown",
   "metadata": {},
   "source": [
    "### Running the model: "
   ]
  },
  {
   "cell_type": "code",
   "execution_count": 4,
   "metadata": {},
   "outputs": [
    {
     "name": "stdout",
     "output_type": "stream",
     "text": [
      "Real c-value: 1.5 \n",
      "Real c-value: 0.5 \n",
      "Estimated c-value: 1.562092667994107 \n",
      "Estimated c-value: 0.5018793967736604\n"
     ]
    }
   ],
   "source": [
    "SGD = stochastic_gradient_descent(X,y)\n",
    "print(f\"Real c-value: {c_true} \\nReal c-value: {mu_true} \\nEstimated c-value: {float(SGD[0])} \\nEstimated c-value: {float(SGD[1])}\")"
   ]
  },
  {
   "cell_type": "markdown",
   "metadata": {},
   "source": [
    "## 4) Mini-batch (Stochastic) Gradient Descent\n",
    "Selecting a random batch of the data for each step-calculation"
   ]
  },
  {
   "cell_type": "code",
   "execution_count": 5,
   "metadata": {},
   "outputs": [],
   "source": [
    "###############################################################################################\n",
    "### 1) HELPER FUNCTIONS\n",
    "###############################################################################################\n",
    "\n",
    "# 1.1) Function giving av value/vector of the estimated y's given the current parameters (same as above)\n",
    "def f(c,mu,x_vector):\n",
    "    return c*(np.exp(-((x_vector-mu)**2)/2))\n",
    "\n",
    "# 1.2 Gradient functions. These differs from the ones above in that they calculate the average gradients for all the observations in the vector (given by N)\n",
    "# 1.2.1) Function returning the gradient of the loss-function with respect to the parameter mu\n",
    "def gradient_c(c, mu, x_vector, y_vector):     \n",
    "    N = len(y_vector)\n",
    "    gradient = 0\n",
    "    for x, y in zip(x_vector, y_vector):\n",
    "        gradient += 2*(f(c, mu, x) - y) * np.exp(-((x-mu)**2)/2)\n",
    "    return gradient/N\n",
    "\n",
    "# 1.2.1) Function returning the gradient of the loss-function with respect to the parameter mu\n",
    "def gradient_mu(c, mu, x_vector, y_vector):         \n",
    "    N = len(y_vector)\n",
    "    gradient = 0\n",
    "    for x,y in zip(x_vector, y_vector):\n",
    "        gradient += 2*(f(c, mu, x) - y) * c *(np.exp(-((x-mu)**2)/2))*(x-mu)/2\n",
    "    return gradient/N\n",
    "\n",
    "###############################################################################################\n",
    "### 2) MINI-BATCH (STOCHASTIC) GRADIENT DESCENT FUNCTIION\n",
    "###############################################################################################\n",
    "\n",
    "def mini_batch_gradient_descent(x_vector, y_vector, learning_rate = 0.01, runs = 1000, batch_size=100):  \n",
    "   # Pick random starting values for the parameters c and mu\n",
    "    c = np.random.uniform(0,1,1)\n",
    "    mu = np.random.uniform(0,1,1)\n",
    "    \n",
    "    # Stochastic element - picking batch of values from the data\n",
    "    permutation = np.random.permutation(len(x_vector))\n",
    "    x = x_vector[permutation][0:batch_size]\n",
    "    y = y_vector[permutation][0:batch_size]    \n",
    "    \n",
    "     # Calculating new parameters\n",
    "    for i in range(runs):\n",
    "        c -= learning_rate*gradient_c(c,mu,x,y)\n",
    "        mu -= learning_rate*gradient_mu(c,mu,x,y)\n",
    "    \n",
    "    return (c,mu)"
   ]
  },
  {
   "cell_type": "markdown",
   "metadata": {},
   "source": [
    "### Running the model"
   ]
  },
  {
   "cell_type": "code",
   "execution_count": 6,
   "metadata": {},
   "outputs": [
    {
     "name": "stdout",
     "output_type": "stream",
     "text": [
      "Real c-value: 1.5 \n",
      "Real c-value: 0.5 \n",
      "Estimated c-value: 1.5550759341543965 \n",
      "Estimated c-value: 0.47176641105699385\n"
     ]
    }
   ],
   "source": [
    "MBGD = mini_batch_gradient_descent(X,y)\n",
    "print(f\"Real c-value: {c_true} \\nReal c-value: {mu_true} \\nEstimated c-value: {float(MBGD[0])} \\nEstimated c-value: {float(MBGD[1])}\")"
   ]
  },
  {
   "cell_type": "markdown",
   "metadata": {},
   "source": [
    "## 5) Jacobian\n",
    "Matrix with values for the first dirivatives -  Section 4 answer "
   ]
  },
  {
   "cell_type": "code",
   "execution_count": 7,
   "metadata": {},
   "outputs": [],
   "source": [
    "# Since I used a somewhat different approach I never calculated the jacobian explicitly. Here I present a function returning the jacobian as asked in section 5\n",
    "def jacobian_matrix(x_vector, c, mu):\n",
    "    return np.hstack([\n",
    "        c*(np.exp(-((x_vector-mu)**2)/2))*(x_vector-mu)/2    # derivitve of f with respect to c (param 1)\n",
    "        , np.exp(-((x_vector-mu)**2)/2)                      # derivitve of f with respect to mu (param 2)\n",
    "    ])"
   ]
  },
  {
   "cell_type": "code",
   "execution_count": 8,
   "metadata": {
    "scrolled": true
   },
   "outputs": [
    {
     "data": {
      "text/plain": [
       "array([[ 0.12903438,  0.94319011],\n",
       "       [ 0.01626879,  0.99917187],\n",
       "       [-0.04766666,  0.9928225 ],\n",
       "       [ 0.23234203,  0.72629149],\n",
       "       [ 0.21501379,  0.79621174],\n",
       "       [-0.06101842,  0.98815495],\n",
       "       [ 0.06623605,  0.98599674],\n",
       "       [ 0.08182157,  0.97838117],\n",
       "       [-0.0706072 ,  0.98403997],\n",
       "       [ 0.06830338,  0.98508835],\n",
       "       [ 0.13417928,  0.93806352],\n",
       "       [-0.00665479,  0.99986158],\n",
       "       [ 0.16586553,  0.89911012],\n",
       "       [ 0.00965177,  0.99970876],\n",
       "       [ 0.2115516 ,  0.80654787],\n",
       "       [-0.0083728 ,  0.99978085],\n",
       "       [ 0.17665843,  0.88223156],\n",
       "       [ 0.19804749,  0.84082541],\n",
       "       [ 0.12835603,  0.94384449],\n",
       "       [ 0.16899423,  0.89444214],\n",
       "       [-0.03386024,  0.99639769],\n",
       "       [ 0.14861089,  0.92202477],\n",
       "       [ 0.1277829 ,  0.94439355],\n",
       "       [ 0.05119415,  0.9917069 ],\n",
       "       [ 0.19612446,  0.84509386],\n",
       "       [ 0.04712824,  0.99298546],\n",
       "       [ 0.03215582,  0.99675296],\n",
       "       [-0.02904428,  0.99735334],\n",
       "       [ 0.23229958,  0.72652675],\n",
       "       [ 0.17848894,  0.87913888],\n",
       "       [-0.02762704,  0.99760624],\n",
       "       [ 0.0078803 ,  0.99980588],\n",
       "       [ 0.10187716,  0.96582755],\n",
       "       [ 0.21634483,  0.7920195 ],\n",
       "       [ 0.02250962,  0.99841284],\n",
       "       [ 0.16099459,  0.90604393],\n",
       "       [ 0.17386942,  0.88680884],\n",
       "       [-0.06735192,  0.98551021],\n",
       "       [ 0.20368792,  0.82750694],\n",
       "       [ 0.23009389,  0.73807456],\n",
       "       [ 0.08265205,  0.97792462],\n",
       "       [ 0.19569112,  0.84603819],\n",
       "       [ 0.04989311,  0.99212808],\n",
       "       [ 0.08348405,  0.97746193],\n",
       "       [-0.05950192,  0.98874652],\n",
       "       [ 0.15346824,  0.91602158],\n",
       "       [ 0.05171492,  0.99153512],\n",
       "       [ 0.00749331,  0.99982449],\n",
       "       [ 0.05952591,  0.98873729],\n",
       "       [ 0.21743892,  0.78847292],\n",
       "       [ 0.20392951,  0.82690748],\n",
       "       [ 0.18571485,  0.86618666],\n",
       "       [ 0.01941528,  0.99881993],\n",
       "       [ 0.22871679,  0.74470678],\n",
       "       [ 0.12837653,  0.94382479],\n",
       "       [ 0.0120171 ,  0.99954841],\n",
       "       [ 0.20372699,  0.82741017],\n",
       "       [ 0.12377655,  0.9481352 ],\n",
       "       [ 0.0196915 ,  0.99878605],\n",
       "       [ 0.03755676,  0.99556265],\n",
       "       [ 0.05298688,  0.99110785],\n",
       "       [-0.01009895,  0.99968113],\n",
       "       [ 0.00755391,  0.99982163],\n",
       "       [ 0.12122503,  0.9504322 ],\n",
       "       [ 0.06903023,  0.98476171],\n",
       "       [ 0.16647975,  0.89820733],\n",
       "       [ 0.22250419,  0.77067955],\n",
       "       [ 0.154001  ,  0.915343  ],\n",
       "       [-0.05633901,  0.9899292 ],\n",
       "       [ 0.00467953,  0.99993156],\n",
       "       [-0.03238568,  0.99670614],\n",
       "       [ 0.17890023,  0.87843401],\n",
       "       [-0.06751843,  0.98543685],\n",
       "       [ 0.00355912,  0.99996041],\n",
       "       [-0.00275963,  0.9999762 ],\n",
       "       [ 0.08281902,  0.97783219],\n",
       "       [ 0.0802036 ,  0.97925556],\n",
       "       [ 0.19036159,  0.85716185],\n",
       "       [ 0.0638703 ,  0.98699902],\n",
       "       [ 0.16545162,  0.89971481],\n",
       "       [ 0.2248994 ,  0.76131517],\n",
       "       [-0.03741998,  0.99559513],\n",
       "       [ 0.20546225,  0.82304381],\n",
       "       [ 0.21546731,  0.79479789],\n",
       "       [ 0.1338501 ,  0.93840034],\n",
       "       [ 0.05676366,  0.98977441],\n",
       "       [ 0.18525293,  0.86705244],\n",
       "       [-0.00769419,  0.99981495],\n",
       "       [ 0.21561715,  0.79432751],\n",
       "       [ 0.14770451,  0.92310933],\n",
       "       [ 0.22601388,  0.75670214],\n",
       "       [ 0.12844364,  0.94376026],\n",
       "       [ 0.19464195,  0.84829866],\n",
       "       [-0.06951996,  0.98453949],\n",
       "       [ 0.18482709,  0.86784583],\n",
       "       [ 0.22968764,  0.74007253],\n",
       "       [-0.02134162,  0.99857362],\n",
       "       [ 0.0695997 ,  0.98450315],\n",
       "       [ 0.21174402,  0.80599337],\n",
       "       [ 0.01630623,  0.99916805]])"
      ]
     },
     "execution_count": 8,
     "metadata": {},
     "output_type": "execute_result"
    }
   ],
   "source": [
    "## With example estimates for the parameters:\n",
    "J_c = 0.8\n",
    "J_mu = 0.2\n",
    "\n",
    "jacobian_matrix(X, J_c, J_mu)"
   ]
  },
  {
   "cell_type": "code",
   "execution_count": null,
   "metadata": {},
   "outputs": [],
   "source": []
  }
 ],
 "metadata": {
  "kernelspec": {
   "display_name": "Python 3",
   "language": "python",
   "name": "python3"
  },
  "language_info": {
   "codemirror_mode": {
    "name": "ipython",
    "version": 3
   },
   "file_extension": ".py",
   "mimetype": "text/x-python",
   "name": "python",
   "nbconvert_exporter": "python",
   "pygments_lexer": "ipython3",
   "version": "3.7.4"
  },
  "toc": {
   "base_numbering": 1,
   "nav_menu": {},
   "number_sections": true,
   "sideBar": true,
   "skip_h1_title": false,
   "title_cell": "Table of Contents",
   "title_sidebar": "Contents",
   "toc_cell": false,
   "toc_position": {
    "height": "calc(100% - 180px)",
    "left": "10px",
    "top": "150px",
    "width": "225px"
   },
   "toc_section_display": true,
   "toc_window_display": true
  }
 },
 "nbformat": 4,
 "nbformat_minor": 4
}
