{
 "cells": [
  {
   "cell_type": "code",
   "execution_count": 107,
   "metadata": {},
   "outputs": [],
   "source": [
    "# Imports\n",
    "import numpy as np\n",
    "import matplotlib.pyplot as plt"
   ]
  },
  {
   "cell_type": "markdown",
   "metadata": {},
   "source": [
    "### OUTLINE / INTRODUCTION"
   ]
  },
  {
   "cell_type": "markdown",
   "metadata": {},
   "source": [
    "I denne notebooken gir jeg svar på oppgavene. Unntaket er den første oppgaven (Task 0), som ligger i en separat PDF. Oppgavene besvares i all hovedsak under oversriften \"Mini-batch (Stochastic) Gradient Descent\", så hopp gjerne rett til den. Grunnen til at jeg har med to løsninger er at jeg først løste oppgaven ved hjelp av \"vanlig\" Stochstic Gradient Descent – der man kun velger én av observasjonene. Dette har jeg bedre kjennskap til fra før, så jeg startet her – deretter utvidet jeg til en mini-batch løsning slik det etterspørres i oppgaven. \n",
    "\n",
    "Notebooken er strukturert som følger:\n",
    "1. I Del 1 en gir jeg et raskt overblikk over den generelle algoritmen for Gradient Descent som jeg har fulgt i løsningen\n",
    "2. I Del 2 genereres det dummy-data som kan brukes til å vurdere/evaluere modellen(e)\n",
    "3. I Del 3 bygges et program som løser oppgaven ved hjelp av \"vanlig\" Stochastic gradient descent\n",
    "4. I Del 4 bygges et program som løser oppggaven ved hjelp av mini-batch stochastic gradient descent. Denne gir svar på Task 3, 5 og 6.\n",
    "5. Del 5 gir en funksjon som produserer jacobian, slik det etterspørres i Task 4."
   ]
  },
  {
   "cell_type": "markdown",
   "metadata": {},
   "source": [
    "## 1) Genral approach/algorithm that I've followed in the solution\n",
    "1. Take the gradient of the loss-function \n",
    "2. Pick random starting values for the parameters that are to be estimated\n",
    "3. Caculate the gradient with the current values\n",
    "4. Calculate the value for the next step: old_value - learning_rate*gradient(current_values)\n",
    "5. Back to step 3."
   ]
  },
  {
   "cell_type": "markdown",
   "metadata": {},
   "source": [
    "## 2) Generating some dummy-data\n",
    "For testing/verifying"
   ]
  },
  {
   "cell_type": "code",
   "execution_count": 115,
   "metadata": {},
   "outputs": [
    {
     "data": {
      "text/plain": [
       "[<matplotlib.lines.Line2D at 0x10f621a50>]"
      ]
     },
     "execution_count": 115,
     "metadata": {},
     "output_type": "execute_result"
    },
    {
     "data": {
      "image/png": "[encoded data removed]",
      "text/plain": [
       "<Figure size 432x288 with 1 Axes>"
      ]
     },
     "metadata": {
      "needs_background": "light"
     },
     "output_type": "display_data"
    }
   ],
   "source": [
    "# True values of the parameters - what I'm trying to estimate later\n",
    "c_true = 1.5\n",
    "mu_true = 0.5\n",
    "\n",
    "# Genrating some input and outout data, last term adds \n",
    "X = np.random.rand(100,1)\n",
    "y = c_true*(np.exp(-((X-mu_true)**2)/2)) + np.random.rand(100,1)/10\n",
    "plt.plot(X, y, 'o')"
   ]
  },
  {
   "cell_type": "markdown",
   "metadata": {},
   "source": [
    "## 3) Stochastic Gradient Descent\n",
    "Picking a single value from the data for each step in the algorithm "
   ]
  },
  {
   "cell_type": "code",
   "execution_count": 127,
   "metadata": {},
   "outputs": [],
   "source": [
    "###############################################################################################\n",
    "### 1) HELPER FUNCTIONS\n",
    "###############################################################################################\n",
    "\n",
    "# 1.1) Function giving av value/vektor of the estimated y's given the current parameters SECTION 3 IN THE TEST\n",
    "def f(c,mu,x_vector):\n",
    "    return c*(np.exp(-((x_vector-mu)**2)/2))\n",
    "\n",
    "\n",
    "# 1.2 Gradient functions (SECTION 5 IN THE TEST)\n",
    "# 1.2.1) Function returning the gradient of the loss-function with respect to the parameter mu\n",
    "def gradient_mu(c,mu,x_vector,y_vector):\n",
    "    N = len(x_vector)\n",
    "    return 2*(f(c,mu,x_vector) - y_vector) * c *(np.exp(-((x_vector-mu)**2)/2))*(x_vector-mu)/2\n",
    "\n",
    "# 1.2.2) Function returning the gradient of the loss-function with respect to the parameter c\n",
    "def gradient_c(c,mu,x_vector,y_vector):\n",
    "    N = len(x_vector)\n",
    "    return 2*(f(c,mu,x_vector) - y_vector) * np.exp(-((x_vector-mu)**2)/2) #/ N\n",
    "\n",
    "###############################################################################################\n",
    "### 2) STOCHASTIUC GRADIENT DESCENT FUNCTIION\n",
    "###############################################################################################\n",
    "\n",
    "def stochastic_gradient_descent(x_vector, y_vector, learning_rate = 0.01, max_num_steps = 1000):    \n",
    "    # Pick random starting values for the parameters c and mu\n",
    "    c = np.random.uniform(0,1,1)\n",
    "    mu = np.random.uniform(0,1,1)\n",
    "    \n",
    "    steps = 0\n",
    "    while steps < max_num_steps:\n",
    "        \n",
    "        # Stochastic element - picking single values for x,y for stochastic gradient descent\n",
    "        permutation = np.random.permutation(len(x_vector))\n",
    "        x = x_vector[permutation][0]\n",
    "        y = y_vector[permutation][0]\n",
    "        \n",
    "        # Calculating new parameters for next step\n",
    "        c = c - learning_rate*gradient_c(c,mu,x,y)\n",
    "        mu = mu - learning_rate*gradient_mu(c,mu,x,y)\n",
    "        \n",
    "        # Updating steps (adding 1)\n",
    "        steps += 1\n",
    "    \n",
    "    return (c,mu)"
   ]
  },
  {
   "cell_type": "markdown",
   "metadata": {},
   "source": [
    "### Running the model: "
   ]
  },
  {
   "cell_type": "code",
   "execution_count": 128,
   "metadata": {},
   "outputs": [
    {
     "name": "stdout",
     "output_type": "stream",
     "text": [
      "Real c-value: 1.5 \n",
      "Real c-value: 0.5 \n",
      "Estimated c-value: 1.5573727560314912 \n",
      "Estimated c-value: 0.5080146772330274\n"
     ]
    }
   ],
   "source": [
    "SGD = stochastic_gradient_descent(X,y)\n",
    "print(f\"Real c-value: {c_true} \\nReal c-value: {mu_true} \\nEstimated c-value: {float(SGD[0])} \\nEstimated c-value: {float(SGD[1])}\")"
   ]
  },
  {
   "cell_type": "markdown",
   "metadata": {},
   "source": [
    "## 4) Mini-batch (Stochastic) Gradient Descent\n",
    "Selecting a random batch of the data for each step-calculation"
   ]
  },
  {
   "cell_type": "code",
   "execution_count": 124,
   "metadata": {},
   "outputs": [],
   "source": [
    "###############################################################################################\n",
    "### 1) HELPER FUNCTIONS\n",
    "###############################################################################################\n",
    "\n",
    "# 1.1) Function giving av value/vector of the estimated y's given the current parameters (same as above)\n",
    "def f(c,mu,x_vector):\n",
    "    return c*(np.exp(-((x_vector-mu)**2)/2))\n",
    "\n",
    "# 1.2 Gradient functions. These differs from the ones above in that they calculate the average gradients for all the observations in the vector (given by N)\n",
    "# 1.2.1) Function returning the gradient of the loss-function with respect to the parameter mu\n",
    "def gradient_c(c, mu, x_vector, y_vector):     \n",
    "    N = len(y_vector)\n",
    "    gradient = 0\n",
    "    for x, y in zip(x_vector, y_vector):\n",
    "        gradient += 2*(f(c, mu, x) - y) * np.exp(-((x-mu)**2)/2)\n",
    "    return gradient/N\n",
    "\n",
    "# 1.2.1) Function returning the gradient of the loss-function with respect to the parameter mu\n",
    "def gradient_mu(c, mu, x_vector, y_vector):         \n",
    "    N = len(y_vector)\n",
    "    gradient = 0\n",
    "    for x,y in zip(x_vector, y_vector):\n",
    "        gradient += 2*(f(c, mu, x) - y) * c *(np.exp(-((x-mu)**2)/2))*(x-mu)/2\n",
    "    return gradient/N\n",
    "\n",
    "###############################################################################################\n",
    "### 2) MINI-BATCH (STOCHASTIC) GRADIENT DESCENT FUNCTIION\n",
    "###############################################################################################\n",
    "\n",
    "def mini_batch_gradient_descent(x_vector, y_vector, learning_rate = 0.01, runs = 1000, batch_size=100):  \n",
    "   # Pick random starting values for the parameters c and mu\n",
    "    c = np.random.uniform(0,1,1)\n",
    "    mu = np.random.uniform(0,1,1)\n",
    "    \n",
    "    # Stochastic element - picking batch of values from the data\n",
    "    permutation = np.random.permutation(len(x_vector))\n",
    "    x = x_vector[permutation][0:batch_size]\n",
    "    y = y_vector[permutation][0:batch_size]    \n",
    "    \n",
    "     # Calculating new parameters\n",
    "    for i in range(runs):\n",
    "        c -= learning_rate*gradient_c(c,mu,x,y)\n",
    "        mu -= learning_rate*gradient_mu(c,mu,x,y)\n",
    "    \n",
    "    return (c,mu)"
   ]
  },
  {
   "cell_type": "markdown",
   "metadata": {},
   "source": [
    "### Running the model"
   ]
  },
  {
   "cell_type": "code",
   "execution_count": 125,
   "metadata": {},
   "outputs": [
    {
     "name": "stdout",
     "output_type": "stream",
     "text": [
      "Real c-value: 1.5 \n",
      "Real c-value: 0.5 \n",
      "Estimated c-value: 1.556134927271715 \n",
      "Estimated c-value: 0.558831524759066\n"
     ]
    }
   ],
   "source": [
    "MBGD = mini_batch_gradient_descent(X,y)\n",
    "print(f\"Real c-value: {c_true} \\nReal c-value: {mu_true} \\nEstimated c-value: {float(MBGD[0])} \\nEstimated c-value: {float(MBGD[1])}\")"
   ]
  },
  {
   "cell_type": "markdown",
   "metadata": {},
   "source": [
    "## 5) Jacobian\n",
    "Matrix with values for the first dirivatives -  Section 4 answer "
   ]
  },
  {
   "cell_type": "code",
   "execution_count": 97,
   "metadata": {},
   "outputs": [],
   "source": [
    "# Since I used a somewhat different approach I never calculated the jacobian explicitly. Here I present a function returning the jacobian as asked in section 5\n",
    "def jacobian_matrix(x_vector, c, mu):\n",
    "    return np.hstack([\n",
    "        c*(np.exp(-((x_vector-mu)**2)/2))*(x_vector-mu)/2    # derivitve of f with respect to c (param 1)\n",
    "        , np.exp(-((x_vector-mu)**2)/2)                      # derivitve of f with respect to mu (param 2)\n",
    "    ])"
   ]
  },
  {
   "cell_type": "code",
   "execution_count": 99,
   "metadata": {
    "scrolled": true
   },
   "outputs": [
    {
     "data": {
      "text/plain": [
       "array([[ 0.0227246 ,  0.9983823 ],\n",
       "       [ 0.0384886 ,  0.99533815],\n",
       "       [ 0.2176987 ,  0.7876168 ],\n",
       "       [-0.00445113,  0.99993808],\n",
       "       [-0.00169103,  0.99999106],\n",
       "       [ 0.2183674 ,  0.78538734],\n",
       "       [ 0.17889197,  0.87844821],\n",
       "       [ 0.11022774,  0.95960537],\n",
       "       [ 0.05605917,  0.99003053],\n",
       "       [ 0.17220038,  0.88947334],\n",
       "       [ 0.01555535,  0.99924299],\n",
       "       [-0.00285838,  0.99997447],\n",
       "       [ 0.22443115,  0.76320234],\n",
       "       [ 0.06593409,  0.98612687],\n",
       "       [ 0.13823522,  0.93381134],\n",
       "       [ 0.2046192 ,  0.82518203],\n",
       "       [ 0.2227382 ,  0.76979498],\n",
       "       [-0.05703624,  0.9896744 ],\n",
       "       [ 0.23026946,  0.73719966],\n",
       "       [-0.06226425,  0.98765699],\n",
       "       [ 0.21136119,  0.8070944 ],\n",
       "       [ 0.2244109 ,  0.76328331],\n",
       "       [ 0.01339501,  0.99943882],\n",
       "       [ 0.02279585,  0.99837212],\n",
       "       [ 0.23193885,  0.72850423],\n",
       "       [ 0.14981294,  0.92056941],\n",
       "       [ 0.21431208,  0.79837072],\n",
       "       [ 0.14860874,  0.92202736],\n",
       "       [ 0.00264849,  0.99997808],\n",
       "       [ 0.18162432,  0.87366986],\n",
       "       [ 0.12442196,  0.94754369],\n",
       "       [ 0.13146277,  0.94080673],\n",
       "       [ 0.2304303 ,  0.73639198],\n",
       "       [ 0.21121727,  0.80750607],\n",
       "       [-0.05844389,  0.98914981],\n",
       "       [ 0.22404769,  0.76472653],\n",
       "       [ 0.19881292,  0.83908991],\n",
       "       [ 0.21957781,  0.78125352],\n",
       "       [-0.01095024,  0.99962508],\n",
       "       [ 0.19760008,  0.84183007],\n",
       "       [ 0.18590692,  0.86582504],\n",
       "       [ 0.06952224,  0.98453846],\n",
       "       [ 0.17207891,  0.88966513],\n",
       "       [ 0.18358892,  0.87012689],\n",
       "       [ 0.04240484,  0.9943326 ],\n",
       "       [ 0.14980163,  0.92058319],\n",
       "       [-0.04867072,  0.99251344],\n",
       "       [ 0.13235204,  0.93991778],\n",
       "       [ 0.22016537,  0.77919884],\n",
       "       [-0.03795511,  0.99546737],\n",
       "       [ 0.20938113,  0.81265359],\n",
       "       [ 0.20357809,  0.82777864],\n",
       "       [ 0.16997897,  0.89293646],\n",
       "       [ 0.0758679 ,  0.98150152],\n",
       "       [ 0.21505107,  0.79609607],\n",
       "       [ 0.07483046,  0.98201818],\n",
       "       [-0.06471188,  0.98664701],\n",
       "       [ 0.20815099,  0.81599879],\n",
       "       [ 0.19126567,  0.85533589],\n",
       "       [ 0.09487126,  0.97058384],\n",
       "       [ 0.15876302,  0.90909219],\n",
       "       [ 0.07754633,  0.98064874],\n",
       "       [ 0.15998323,  0.90743511],\n",
       "       [ 0.21660167,  0.7911953 ],\n",
       "       [ 0.19283815,  0.85210215],\n",
       "       [-0.0088293 ,  0.9997563 ],\n",
       "       [ 0.20619915,  0.82114787],\n",
       "       [-0.02887551,  0.99738413],\n",
       "       [ 0.07701098,  0.98092302],\n",
       "       [ 0.22307049,  0.76852816],\n",
       "       [ 0.21326674,  0.80152483],\n",
       "       [-0.01796126,  0.99899032],\n",
       "       [-0.01712032,  0.99908278],\n",
       "       [ 0.12079759,  0.9508106 ],\n",
       "       [ 0.11870718,  0.95263508],\n",
       "       [ 0.21502694,  0.79617097],\n",
       "       [ 0.22537482,  0.75936876],\n",
       "       [ 0.11190069,  0.95828355],\n",
       "       [ 0.06407619,  0.98691336],\n",
       "       [ 0.10523705,  0.96339808],\n",
       "       [ 0.20679564,  0.81959422],\n",
       "       [ 0.06260584,  0.98751856],\n",
       "       [-0.07225136,  0.98326833],\n",
       "       [ 0.21146746,  0.80678964],\n",
       "       [ 0.09618955,  0.96972018],\n",
       "       [ 0.16890306,  0.89458065],\n",
       "       [-0.05603682,  0.9900386 ],\n",
       "       [ 0.20982005,  0.81144031],\n",
       "       [ 0.0100324 ,  0.99968532],\n",
       "       [ 0.17340642,  0.88755347],\n",
       "       [-0.0226422 ,  0.99839404],\n",
       "       [ 0.212572  ,  0.80358163],\n",
       "       [ 0.22750428,  0.75024094],\n",
       "       [-0.01426791,  0.99936323],\n",
       "       [ 0.08307092,  0.97769234],\n",
       "       [ 0.22597058,  0.75688469],\n",
       "       [ 0.16048678,  0.90674448],\n",
       "       [-0.06541692,  0.98634825],\n",
       "       [ 0.21347468,  0.80090318],\n",
       "       [ 0.05143855,  0.99162651]])"
      ]
     },
     "execution_count": 99,
     "metadata": {},
     "output_type": "execute_result"
    }
   ],
   "source": [
    "## With example estimates for the parameters:\n",
    "J_c = 0.8\n",
    "J_mu = 0.2\n",
    "\n",
    "jacobian_matrix(X, J_c, J_mu)"
   ]
  },
  {
   "cell_type": "code",
   "execution_count": null,
   "metadata": {},
   "outputs": [],
   "source": []
  }
 ],
 "metadata": {
  "kernelspec": {
   "display_name": "Python 3",
   "language": "python",
   "name": "python3"
  },
  "language_info": {
   "codemirror_mode": {
    "name": "ipython",
    "version": 3
   },
   "file_extension": ".py",
   "mimetype": "text/x-python",
   "name": "python",
   "nbconvert_exporter": "python",
   "pygments_lexer": "ipython3",
   "version": "3.7.4"
  },
  "toc": {
   "base_numbering": 1,
   "nav_menu": {},
   "number_sections": true,
   "sideBar": true,
   "skip_h1_title": false,
   "title_cell": "Table of Contents",
   "title_sidebar": "Contents",
   "toc_cell": false,
   "toc_position": {
    "height": "calc(100% - 180px)",
    "left": "10px",
    "top": "150px",
    "width": "225px"
   },
   "toc_section_display": true,
   "toc_window_display": true
  }
 },
 "nbformat": 4,
 "nbformat_minor": 4
}
